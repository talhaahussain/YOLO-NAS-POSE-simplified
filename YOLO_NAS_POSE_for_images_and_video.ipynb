{
  "nbformat": 4,
  "nbformat_minor": 0,
  "metadata": {
    "colab": {
      "provenance": [],
      "authorship_tag": "ABX9TyNgkgOsGkXNMIqLvyGW8nmf",
      "include_colab_link": true
    },
    "kernelspec": {
      "name": "python3",
      "display_name": "Python 3"
    },
    "language_info": {
      "name": "python"
    }
  },
  "cells": [
    {
      "cell_type": "markdown",
      "metadata": {
        "id": "view-in-github",
        "colab_type": "text"
      },
      "source": [
        "<a href=\"https://colab.research.google.com/github/talhaahussain/YOLO-NAS-POSE-simplified/blob/main/YOLO_NAS_POSE_for_images_and_video.ipynb\" target=\"_parent\"><img src=\"https://colab.research.google.com/assets/colab-badge.svg\" alt=\"Open In Colab\"/></a>"
      ]
    },
    {
      "cell_type": "markdown",
      "source": [
        "### // **Briefing**\n",
        "\n",
        "This is a notebook for using YOLO-NAS-POSE. This does away with any real-time capture and playback, instead opting for more reliable (and less system-intensive) persistent data retrieval and storage. Obtaining images and video, and loading them into the environment is **your** responsibility."
      ],
      "metadata": {
        "id": "aN7MgT3_SIbq"
      }
    },
    {
      "cell_type": "markdown",
      "source": [
        "### // **Setup**\n",
        "\n",
        "Please run the following for...\n",
        "- Installation\n",
        "- Imports\n",
        "- Model instantiation"
      ],
      "metadata": {
        "id": "VaIQJDFKRy31"
      }
    },
    {
      "cell_type": "code",
      "source": [
        "%%capture\n",
        "!pip install super-gradients"
      ],
      "metadata": {
        "id": "Gm0p3l5Sfxe7"
      },
      "execution_count": null,
      "outputs": []
    },
    {
      "cell_type": "markdown",
      "source": [
        "**After running the above, please restart your runtime environment.**\n",
        "\n",
        "\n",
        "This must be done in order to avoid an issue with PIL, where `Image.open()` (used by the model to load images) fails and instead raises exception `PIL.UnidentifiedImageError`."
      ],
      "metadata": {
        "id": "p2Gcma78GtT5"
      }
    },
    {
      "cell_type": "code",
      "execution_count": null,
      "metadata": {
        "id": "GPtyZtZTRr7P"
      },
      "outputs": [],
      "source": [
        "import torch\n",
        "import os\n",
        "import pathlib\n",
        "import re\n",
        "from imutils import paths\n",
        "from super_gradients.training import models\n",
        "from super_gradients.common.object_names import Models\n",
        "\n",
        "device = \"cuda\" if torch.cuda.is_available() else \"cpu\"\n",
        "yolo_nas_pose = models.get(\"yolo_nas_pose_l\", pretrained_weights=\"coco_pose\").to(device)"
      ]
    },
    {
      "cell_type": "markdown",
      "source": [
        "### // **Predict on Image**\n",
        "\n",
        "Please ensure image is locally available."
      ],
      "metadata": {
        "id": "AbPkTrqLTdnG"
      }
    },
    {
      "cell_type": "code",
      "source": [
        "input_path = None\n",
        "confidence = 0.6\n",
        "output_path = None\n",
        "\n",
        "result = yolo_nas_pose.predict(input_path, conf=confidence)\n",
        "\n",
        "result.show()\n",
        "result.save(output_path)"
      ],
      "metadata": {
        "id": "1tFAX6ZLTmDD"
      },
      "execution_count": null,
      "outputs": []
    },
    {
      "cell_type": "markdown",
      "source": [
        "### // **Predict on Video**\n",
        "\n",
        "Please ensure video is locally available."
      ],
      "metadata": {
        "id": "JHuB3QC-Tofw"
      }
    },
    {
      "cell_type": "code",
      "source": [
        "input_path = None\n",
        "confidence = 0.6\n",
        "output_path = None\n",
        "\n",
        "result = yolo_nas_pose.predict(input_path, conf=confidence).save(output_path)"
      ],
      "metadata": {
        "id": "61I8tp51Tspp"
      },
      "execution_count": null,
      "outputs": []
    }
  ]
}