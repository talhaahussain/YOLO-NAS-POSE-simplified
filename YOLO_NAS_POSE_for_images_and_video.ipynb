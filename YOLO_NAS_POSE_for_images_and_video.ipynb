{
  "nbformat": 4,
  "nbformat_minor": 0,
  "metadata": {
    "colab": {
      "provenance": [],
      "authorship_tag": "ABX9TyP6YR7vnfvEcrZ6rMpnLhl6",
      "include_colab_link": true
    },
    "kernelspec": {
      "name": "python3",
      "display_name": "Python 3"
    },
    "language_info": {
      "name": "python"
    }
  },
  "cells": [
    {
      "cell_type": "markdown",
      "metadata": {
        "id": "view-in-github",
        "colab_type": "text"
      },
      "source": [
        "<a href=\"https://colab.research.google.com/github/talhaahussain/YOLO-NAS-POSE-simplified/blob/main/YOLO_NAS_POSE_for_images_and_video.ipynb\" target=\"_parent\"><img src=\"https://colab.research.google.com/assets/colab-badge.svg\" alt=\"Open In Colab\"/></a>"
      ]
    },
    {
      "cell_type": "markdown",
      "source": [
        "### // **Briefing**\n",
        "\n",
        "This is a notebook for using YOLO-NAS-POSE. This does away with any real-time capture and playback, instead opting for more reliable (and less system-intensive) persistent data retrieval and storage. Obtaining images and video, and loading them into the environment is **your** responsibility."
      ],
      "metadata": {
        "id": "aN7MgT3_SIbq"
      }
    },
    {
      "cell_type": "markdown",
      "source": [
        "### // **Setup**\n",
        "\n",
        "Please run the following for...\n",
        "- Installation\n",
        "- Imports\n",
        "- Model instantiation"
      ],
      "metadata": {
        "id": "VaIQJDFKRy31"
      }
    },
    {
      "cell_type": "code",
      "source": [
        "%%capture\n",
        "!pip install super-gradients"
      ],
      "metadata": {
        "id": "Gm0p3l5Sfxe7"
      },
      "execution_count": null,
      "outputs": []
    },
    {
      "cell_type": "markdown",
      "source": [
        "**After running the above, please restart your runtime environment.**\n",
        "\n",
        "\n",
        "This must be done in order to avoid an issue with PIL, where `Image.open()` (used by the model to load images) fails and instead raises exception `PIL.UnidentifiedImageError`."
      ],
      "metadata": {
        "id": "p2Gcma78GtT5"
      }
    },
    {
      "cell_type": "code",
      "execution_count": null,
      "metadata": {
        "id": "GPtyZtZTRr7P"
      },
      "outputs": [],
      "source": [
        "import torch\n",
        "import os\n",
        "import pathlib\n",
        "import re\n",
        "from imutils import paths\n",
        "from super_gradients.training import models\n",
        "from super_gradients.common.object_names import Models\n",
        "\n",
        "device = \"cuda\" if torch.cuda.is_available() else \"cpu\"\n",
        "yolo_nas_pose = models.get(\"yolo_nas_pose_l\", pretrained_weights=\"coco_pose\").to(device)"
      ]
    },
    {
      "cell_type": "markdown",
      "source": [
        "### // **Predict on Image**\n",
        "\n",
        "Please ensure image is locally available."
      ],
      "metadata": {
        "id": "AbPkTrqLTdnG"
      }
    },
    {
      "cell_type": "code",
      "source": [
        "input_path = \"/content/0000004.jpg\"\n",
        "confidence = 0.6\n",
        "output_path = \"0000004_out.jpg\"\n",
        "\n",
        "result = yolo_nas_pose.predict(input_path, conf=confidence)\n",
        "\n",
        "result.show()\n",
        "result.save(output_path)"
      ],
      "metadata": {
        "id": "1tFAX6ZLTmDD"
      },
      "execution_count": null,
      "outputs": []
    },
    {
      "cell_type": "code",
      "source": [],
      "metadata": {
        "id": "xdbfBrbnnHab"
      },
      "execution_count": null,
      "outputs": []
    },
    {
      "cell_type": "code",
      "source": [
        "class_names = result.class_names\n",
        "#labels = result.prediction.labels\n",
        "#confidence = result.prediction.confidence\n",
        "bboxes = result.prediction.bboxes_xyxy\n",
        "poses = result.prediction.poses"
      ],
      "metadata": {
        "id": "cX3C_24MmasP"
      },
      "execution_count": null,
      "outputs": []
    },
    {
      "cell_type": "code",
      "source": [
        "poses"
      ],
      "metadata": {
        "colab": {
          "base_uri": "https://localhost:8080/"
        },
        "id": "79gIVzjynBc0",
        "outputId": "10aef85a-537f-4fa8-acd7-f1107e253cc0"
      },
      "execution_count": null,
      "outputs": [
        {
          "output_type": "execute_result",
          "data": {
            "text/plain": [
              "array([[[ 7.7645807e+02,  2.6737729e+02,  9.2235690e-01],\n",
              "        [ 7.8367798e+02,  2.6146191e+02,  9.5574343e-01],\n",
              "        [ 7.7010321e+02,  2.6115805e+02,  9.2436951e-01],\n",
              "        [ 7.9508929e+02,  2.6859802e+02,  7.8228194e-01],\n",
              "        [ 7.6165021e+02,  2.6791824e+02,  5.1148272e-01],\n",
              "        [ 8.1069653e+02,  3.1104044e+02,  9.7760564e-01],\n",
              "        [ 7.4806097e+02,  3.0423734e+02,  9.6161491e-01],\n",
              "        [ 8.2365625e+02,  3.6197614e+02,  8.8624507e-01],\n",
              "        [ 7.2844025e+02,  3.0712784e+02,  7.9386836e-01],\n",
              "        [ 8.3194623e+02,  4.0327887e+02,  8.3650470e-01],\n",
              "        [ 7.3017926e+02,  3.0073209e+02,  7.3666626e-01],\n",
              "        [ 7.9168250e+02,  4.1381665e+02,  9.5453995e-01],\n",
              "        [ 7.5043188e+02,  4.1172153e+02,  9.5277148e-01],\n",
              "        [ 7.8937048e+02,  5.0309979e+02,  9.6366376e-01],\n",
              "        [ 7.4491974e+02,  4.9953986e+02,  9.6627676e-01],\n",
              "        [ 7.8120898e+02,  5.9298444e+02,  9.1761851e-01],\n",
              "        [ 7.4379620e+02,  5.8778839e+02,  9.2838776e-01]],\n",
              "\n",
              "       [[ 5.6971216e+02,  1.3123948e+01,  5.7604797e-02],\n",
              "        [ 5.5912354e+02,  4.8682860e-01,  1.9160667e-02],\n",
              "        [ 5.7142358e+02,  4.8582840e-01,  2.8382951e-02],\n",
              "        [ 5.1501910e+02, -2.8790207e+00,  2.1971034e-01],\n",
              "        [ 5.8434235e+02, -4.6811738e+00,  2.8493667e-01],\n",
              "        [ 4.7375839e+02,  5.3842674e+01,  9.0445542e-01],\n",
              "        [ 6.2141016e+02,  5.9606297e+01,  8.9473331e-01],\n",
              "        [ 4.0734363e+02,  1.4747514e+02,  8.9976603e-01],\n",
              "        [ 6.7172247e+02,  1.7699635e+02,  8.5010052e-01],\n",
              "        [ 4.3247806e+02,  2.5082047e+02,  8.1230634e-01],\n",
              "        [ 6.6874164e+02,  2.2120305e+02,  7.4162680e-01],\n",
              "        [ 4.8338602e+02,  2.5944730e+02,  9.6180648e-01],\n",
              "        [ 5.7849060e+02,  2.6202649e+02,  9.6808380e-01],\n",
              "        [ 4.9372781e+02,  4.4490527e+02,  9.4765520e-01],\n",
              "        [ 5.8669562e+02,  4.3247626e+02,  9.5244598e-01],\n",
              "        [ 4.9239972e+02,  6.1209595e+02,  7.7641845e-01],\n",
              "        [ 5.3697021e+02,  5.7419287e+02,  7.5290006e-01]]], dtype=float32)"
            ]
          },
          "metadata": {},
          "execution_count": 29
        }
      ]
    },
    {
      "cell_type": "markdown",
      "source": [
        "### // **Predict on Video**\n",
        "\n",
        "Please ensure video is locally available."
      ],
      "metadata": {
        "id": "JHuB3QC-Tofw"
      }
    },
    {
      "cell_type": "code",
      "source": [
        "input_path = None\n",
        "confidence = 0.0\n",
        "output_path = None\n",
        "\n",
        "result = yolo_nas_pose.predict(input_path, conf=confidence).save(output_path)"
      ],
      "metadata": {
        "id": "61I8tp51Tspp"
      },
      "execution_count": null,
      "outputs": []
    }
  ]
}